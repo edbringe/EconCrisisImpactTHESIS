{
 "cells": [
  {
   "cell_type": "code",
   "execution_count": 1,
   "metadata": {},
   "outputs": [],
   "source": [
    "import pandas as pd\n",
    "import numpy as np\n",
    "import matplotlib.pyplot as plt\n",
    "import country_converter as coco"
   ]
  },
  {
   "cell_type": "code",
   "execution_count": 2,
   "metadata": {},
   "outputs": [],
   "source": [
    "#Proper units to present on graphs\n",
    "proper_units = pd.DataFrame(['kg CO$_2$ eq.','km$^2$','Mm$^3$','kt'],index=['kg CO2 eq.','km2','Mm3','kt'],columns=['Proper Units'])"
   ]
  },
  {
   "cell_type": "markdown",
   "metadata": {},
   "source": [
    "### PBA account\n",
    "\n",
    "Sectoral account (bigger dataframes)"
   ]
  },
  {
   "cell_type": "code",
   "execution_count": 3,
   "metadata": {},
   "outputs": [],
   "source": [
    "D_pba = pd.read_csv('summary\\D_pba.csv', sep='\\t', index_col=[0])"
   ]
  },
  {
   "cell_type": "code",
   "execution_count": 4,
   "metadata": {},
   "outputs": [],
   "source": [
    "#General functions for isolating regions and years from the main dataframe\n",
    "def loc_region(region):\n",
    "    df = D_pba.loc[D_pba['region'] == region]\n",
    "    return df\n",
    "\n",
    "def loc_years(pba_region, year):\n",
    "    df = pba_region.loc[pba_region['year'] == year]\n",
    "    return df"
   ]
  },
  {
   "cell_type": "code",
   "execution_count": 9,
   "metadata": {},
   "outputs": [],
   "source": [
    "#Short function to find and sort the impacts of a single year (takes in previous year as well).\n",
    "#Default ascending is True (fitting for impacts, not rebounds)\n",
    "def impact_diff(year_0, year_1, impact, region, direction = True):\n",
    "    imp_1 = loc_years(loc_region(region), year_1)\n",
    "    imp_0 = loc_years(loc_region(region), year_0)\n",
    "\n",
    "    #isolating the ixi matrix\n",
    "    ind_imp_1 = imp_1.loc[imp_1['system'] == 'ixi']\n",
    "    ind_imp_0 = imp_0.loc[imp_0['system'] == 'ixi']\n",
    "\n",
    "    imp_1 = ind_imp_1.loc[:,impact].rename(year_1)\n",
    "    imp_0 = ind_imp_0.loc[:,impact].rename(year_0)\n",
    "\n",
    "    imp_diff = pd.concat([imp_0,imp_1],axis=1).diff(axis=1)\n",
    "    sorted_imp = imp_diff.sort_values(by=year_1, ascending = direction)\n",
    "    sorted_imp = sorted_imp.drop(year_0, axis='columns')\n",
    "    TOP10_diff = sorted_imp.iloc[0:10]\n",
    "\n",
    "    return TOP10_diff\n",
    "\n",
    "#Literature takes a production based approach."
   ]
  },
  {
   "cell_type": "markdown",
   "metadata": {},
   "source": [
    "What follows is extracting the impacts and rebounds for every region, impact category and economic crisis that was deemed significant. This is done manually. Data exporting code is commented out to avoid errors.\n",
    "\n",
    "### The World\n",
    "Global anaomalies are the same for CBA and PBA perspectives, but sectoral allocation does differ between the two perspectives.\n",
    "##### Climate change"
   ]
  },
  {
   "cell_type": "code",
   "execution_count": 17,
   "metadata": {},
   "outputs": [],
   "source": [
    "#Global financial crisis\n",
    "#clim_world2007 = impact_sectors('Total CO2', 'global', [2008, 2009], [2009, 2010])\n",
    "clim_world2009 = impact_diff(2008,2009, 'Total CO2', 'global')\n",
    "#COVID\n",
    "#clim_world2020 = impact_sectors('Total CO2', 'global', [2019, 2020], [2020, 2021])\n",
    "clim_world2020 = impact_diff(2019, 2020, 'Total CO2', 'global')"
   ]
  },
  {
   "cell_type": "code",
   "execution_count": 18,
   "metadata": {},
   "outputs": [],
   "source": [
    "#Rebounds\n",
    "#Global financial crisis\n",
    "clim_world2010 = impact_diff(2009, 2010, 'Total CO2', 'global', False)\n",
    "#COVID\n",
    "clim_world2021 = impact_diff(2020, 2021, 'Total CO2', 'global', False)"
   ]
  },
  {
   "cell_type": "markdown",
   "metadata": {},
   "source": [
    "##### Land Use"
   ]
  },
  {
   "cell_type": "code",
   "execution_count": 19,
   "metadata": {},
   "outputs": [],
   "source": [
    "#Dotcom bubble\n",
    "#land_world2001 = impact_sectors('Total Land Use', 'global', [2000, 2001], [2001, 2002])\n",
    "land_world2001 = impact_diff(2000,2001,'Total Land Use', 'global')\n",
    "#COVID-19\n",
    "#land_world2019 = impact_sectors('Total Land Use', 'global', [2018, 2019], [2019, 2020])\n",
    "land_world2019 = impact_diff(2018, 2019, 'Total Land Use', 'global')"
   ]
  },
  {
   "cell_type": "markdown",
   "metadata": {},
   "source": [
    "##### Water Use"
   ]
  },
  {
   "cell_type": "code",
   "execution_count": 20,
   "metadata": {},
   "outputs": [],
   "source": [
    "#COVID, not an anomaly recorded, annual impact growth is stalled\n",
    "#water_world2020 = impact_sectors('Total Water Consumption Blue', 'global', [2019, 2020], [2020, 2021])\n",
    "water_world2020 = impact_diff(2019, 2020, 'Total Water Consumption Blue', 'global')"
   ]
  },
  {
   "cell_type": "markdown",
   "metadata": {},
   "source": [
    "##### Material Use"
   ]
  },
  {
   "cell_type": "code",
   "execution_count": 21,
   "metadata": {},
   "outputs": [],
   "source": [
    "#Global financial crisis\n",
    "#mat_world2009 = impact_sectors('Total Domestic Extraction Used', 'global', [2008, 2009], [2009, 2010])\n",
    "mat_world2009 = impact_diff(2008, 2009, 'Total Domestic Extraction Used', 'global')\n",
    "#COVID\n",
    "#mat_world2020 = impact_sectors('Total Domestic Extraction Used', 'global', [2019, 2020], [2020, 2021])\n",
    "mat_world2020 = impact_diff(2019, 2020, 'Total Domestic Extraction Used', 'global')"
   ]
  },
  {
   "cell_type": "code",
   "execution_count": 22,
   "metadata": {},
   "outputs": [],
   "source": [
    "#Rebounds\n",
    "#Global financial crisis\n",
    "mat_world2010 = impact_diff(2009, 2010, 'Total Domestic Extraction Used', 'global', False)\n",
    "#COVID\n",
    "mat_world2021 = impact_diff(2020, 2021, 'Total Domestic Extraction Used', 'global', False)"
   ]
  },
  {
   "cell_type": "code",
   "execution_count": 23,
   "metadata": {},
   "outputs": [
    {
     "data": {
      "text/plain": [
       "\"with pd.ExcelWriter('impact_sectors\\\\impact_scales_worldPBA.xlsx', mode='a') as writer:\\n    clim_world2009.to_excel(writer, sheet_name='clim_world2009')\\n    clim_world2020.to_excel(writer, sheet_name='clim_world2020')\\n\\n    land_world2001.to_excel(writer, sheet_name='land_world2001')\\n    land_world2019.to_excel(writer, sheet_name='land_world2020')\\n\\n    water_world2020.to_excel(writer, sheet_name='water_world2020')\\n\\n    mat_world2009.to_excel(writer, sheet_name='mat_world2009')\\n    mat_world2020.to_excel(writer, sheet_name='mat_world2020')\""
      ]
     },
     "execution_count": 23,
     "metadata": {},
     "output_type": "execute_result"
    }
   ],
   "source": [
    "'''with pd.ExcelWriter('impact_sectors\\impact_scales_worldPBA.xlsx', mode='a') as writer:\n",
    "    clim_world2009.to_excel(writer, sheet_name='clim_world2009')\n",
    "    clim_world2020.to_excel(writer, sheet_name='clim_world2020')\n",
    "\n",
    "    land_world2001.to_excel(writer, sheet_name='land_world2001')\n",
    "    land_world2019.to_excel(writer, sheet_name='land_world2020')\n",
    "\n",
    "    water_world2020.to_excel(writer, sheet_name='water_world2020')\n",
    "\n",
    "    mat_world2009.to_excel(writer, sheet_name='mat_world2009')\n",
    "    mat_world2020.to_excel(writer, sheet_name='mat_world2020')'''"
   ]
  },
  {
   "cell_type": "code",
   "execution_count": 24,
   "metadata": {},
   "outputs": [
    {
     "data": {
      "text/plain": [
       "\"with pd.ExcelWriter('rebound_sectors\\\\PBA_world_rebound_scales.xlsx', mode='a') as writer:\\n    clim_world2010.to_excel(writer, sheet_name='clim_world2010')\\n    clim_world2021.to_excel(writer, sheet_name='clim_world2021')\\n\\n    mat_world2010.to_excel(writer, sheet_name='mat_world2010')\\n    mat_world2021.to_excel(writer, sheet_name='mat_world2021')\""
      ]
     },
     "execution_count": 24,
     "metadata": {},
     "output_type": "execute_result"
    }
   ],
   "source": [
    "'''with pd.ExcelWriter('rebound_sectors\\PBA_world_rebound_scales.xlsx', mode='a') as writer:\n",
    "    clim_world2010.to_excel(writer, sheet_name='clim_world2010')\n",
    "    clim_world2021.to_excel(writer, sheet_name='clim_world2021')\n",
    "\n",
    "    mat_world2010.to_excel(writer, sheet_name='mat_world2010')\n",
    "    mat_world2021.to_excel(writer, sheet_name='mat_world2021')'''"
   ]
  },
  {
   "cell_type": "markdown",
   "metadata": {},
   "source": [
    "#### The United States\n",
    "##### Climate change"
   ]
  },
  {
   "cell_type": "code",
   "execution_count": 25,
   "metadata": {},
   "outputs": [],
   "source": [
    "#Global financial crisis\n",
    "#clim_US2007 = impact_sectors('Total CO2', 'US', [2008, 2009], [2009, 2010])\n",
    "clim_US2009 = impact_diff(2008,2009,'Total CO2','US')\n",
    "#COVID\n",
    "#clim_US2020 = impact_sectors('Total CO2', 'US', [2019, 2020], [2020, 2021])\n",
    "clim_US2020 = impact_diff(2019,2020,'Total CO2','US')"
   ]
  },
  {
   "cell_type": "code",
   "execution_count": 26,
   "metadata": {},
   "outputs": [],
   "source": [
    "#Rebounds\n",
    "#COVID\n",
    "clim_US2021 = impact_diff(2020, 2021, 'Total CO2', 'US', False)"
   ]
  },
  {
   "cell_type": "markdown",
   "metadata": {},
   "source": [
    "##### Land Use"
   ]
  },
  {
   "cell_type": "code",
   "execution_count": 27,
   "metadata": {},
   "outputs": [],
   "source": [
    "#Asian financial crisis\n",
    "#land_US1997 = impact_sectors('Total Land Use', 'US', [1996, 1997], [1997, 1998])\n",
    "land_US1997 = impact_diff(1996,1997,'Total Land Use', 'US', False)\n",
    "#rebounds N/A"
   ]
  },
  {
   "cell_type": "markdown",
   "metadata": {},
   "source": [
    "##### Water Use"
   ]
  },
  {
   "cell_type": "code",
   "execution_count": 28,
   "metadata": {},
   "outputs": [],
   "source": [
    "#Global financial crisis\n",
    "#water_US2008 = impact_sectors('Total Water Consumption Blue', 'US', [2008, 2009], [2009, 2010])\n",
    "water_US2009 = impact_diff(2008, 2009, 'Total Water Consumption Blue', 'US')\n",
    "#COVID-19\n",
    "#water_US2020 = impact_sectors('Total Water Consumption Blue', 'US', [2019, 2020], [2020, 2021])\n",
    "water_US2020 = impact_diff(2019, 2020, 'Total Water Consumption Blue', 'US')"
   ]
  },
  {
   "cell_type": "code",
   "execution_count": 29,
   "metadata": {},
   "outputs": [],
   "source": [
    "#Rebounds\n",
    "#Global financial crisis\n",
    "water_US2010 = impact_diff(2009, 2010, 'Total Water Consumption Blue', 'US', False)\n",
    "#COVID\n",
    "water_US2021 = impact_diff(2020, 2021, 'Total Water Consumption Blue', 'US', False)"
   ]
  },
  {
   "cell_type": "markdown",
   "metadata": {},
   "source": [
    "##### Material Use"
   ]
  },
  {
   "cell_type": "code",
   "execution_count": 30,
   "metadata": {},
   "outputs": [],
   "source": [
    "#Global financial crisis\n",
    "#mat_US2009 = impact_sectors('Total Domestic Extraction Used', 'US', [2008, 2009], [2009, 2010])\n",
    "mat_US2008 = impact_diff(2007,2008, 'Total Domestic Extraction Used', 'US')"
   ]
  },
  {
   "cell_type": "code",
   "execution_count": 31,
   "metadata": {},
   "outputs": [],
   "source": [
    "#Rebounds\n",
    "mat_US2010 = impact_diff(2009, 2010, 'Total Domestic Extraction Used', 'US', False)"
   ]
  },
  {
   "cell_type": "code",
   "execution_count": 32,
   "metadata": {},
   "outputs": [
    {
     "data": {
      "text/plain": [
       "\"with pd.ExcelWriter('impact_sectors\\\\impact_scales_USPBA.xlsx', mode='a') as writer:\\n    clim_US2009.to_excel(writer, sheet_name='clim_US2009')\\n    clim_US2020.to_excel(writer, sheet_name='clim_US2020')\\n\\n    land_US1997.to_excel(writer, sheet_name='land_US1997')\\n\\n    water_US2009.to_excel(writer, sheet_name='water_US2009')\\n    water_US2020.to_excel(writer, sheet_name='water_US2020')\\n\\n    mat_US2008.to_excel(writer, sheet_name='mat_US2008')\""
      ]
     },
     "execution_count": 32,
     "metadata": {},
     "output_type": "execute_result"
    }
   ],
   "source": [
    "'''with pd.ExcelWriter('impact_sectors\\impact_scales_USPBA.xlsx', mode='a') as writer:\n",
    "    clim_US2009.to_excel(writer, sheet_name='clim_US2009')\n",
    "    clim_US2020.to_excel(writer, sheet_name='clim_US2020')\n",
    "\n",
    "    land_US1997.to_excel(writer, sheet_name='land_US1997')\n",
    "\n",
    "    water_US2009.to_excel(writer, sheet_name='water_US2009')\n",
    "    water_US2020.to_excel(writer, sheet_name='water_US2020')\n",
    "\n",
    "    mat_US2008.to_excel(writer, sheet_name='mat_US2008')'''"
   ]
  },
  {
   "cell_type": "code",
   "execution_count": 33,
   "metadata": {},
   "outputs": [
    {
     "data": {
      "text/plain": [
       "\"with pd.ExcelWriter('rebound_sectors\\\\PBA_US_rebound_scales.xlsx', mode='a') as writer:\\n    clim_US2021.to_excel(writer, sheet_name='clim_US2021')\\n\\n    water_US2010.to_excel(writer, sheet_name='water_US2010')\\n    water_US2021.to_excel(writer, sheet_name='water_US2021')\\n\\n    mat_US2010.to_excel(writer, sheet_name='mat_US2010')\""
      ]
     },
     "execution_count": 33,
     "metadata": {},
     "output_type": "execute_result"
    }
   ],
   "source": [
    "'''with pd.ExcelWriter('rebound_sectors\\PBA_US_rebound_scales.xlsx', mode='a') as writer:\n",
    "    clim_US2021.to_excel(writer, sheet_name='clim_US2021')\n",
    "\n",
    "    water_US2010.to_excel(writer, sheet_name='water_US2010')\n",
    "    water_US2021.to_excel(writer, sheet_name='water_US2021')\n",
    "\n",
    "    mat_US2010.to_excel(writer, sheet_name='mat_US2010')'''"
   ]
  },
  {
   "cell_type": "markdown",
   "metadata": {},
   "source": [
    "#### EU27\n",
    "##### Climate Change"
   ]
  },
  {
   "cell_type": "code",
   "execution_count": 34,
   "metadata": {},
   "outputs": [],
   "source": [
    "#Global financial crisis\n",
    "#clim_EU2007 = impact_sectors('Total CO2', 'EU27', [2008, 2009], [2009, 2010])\n",
    "clim_EU2009 = impact_diff(2008,2009, 'Total CO2', 'EU27')\n",
    "#COVID\n",
    "#clim_EU2020 = impact_sectors('Total CO2', 'EU27', [2019, 2020], [2020, 2021])\n",
    "clim_EU2020 = impact_diff(2019, 2020, 'Total CO2', 'EU27')"
   ]
  },
  {
   "cell_type": "code",
   "execution_count": 35,
   "metadata": {},
   "outputs": [],
   "source": [
    "#Rebounds\n",
    "#global financial crisis\n",
    "clim_EU2010 = impact_diff(2009, 2010, 'Total CO2', 'EU27', False)\n",
    "#COVID\n",
    "clim_EU2021 = impact_diff(2020, 2021, 'Total CO2', 'EU27', False)"
   ]
  },
  {
   "cell_type": "markdown",
   "metadata": {},
   "source": [
    "##### Land Use"
   ]
  },
  {
   "cell_type": "code",
   "execution_count": 36,
   "metadata": {},
   "outputs": [],
   "source": [
    "#COVID, error only detected for PBA for 2020\n",
    "#land_EU2020 = impact_sectors('Total Land Use', 'EU27', [2019, 2020], [2020, 2021])\n",
    "land_EU2020 = impact_diff(2019, 2020, 'Total Land Use', 'EU27')"
   ]
  },
  {
   "cell_type": "markdown",
   "metadata": {},
   "source": [
    "##### Water Use"
   ]
  },
  {
   "cell_type": "code",
   "execution_count": 37,
   "metadata": {},
   "outputs": [],
   "source": [
    "#Global financial crisis\n",
    "#water_EU2008 = impact_diff(2007,2008,'Total Water Consumption Blue','EU27')"
   ]
  },
  {
   "cell_type": "code",
   "execution_count": 38,
   "metadata": {},
   "outputs": [],
   "source": [
    "#Rebound\n",
    "#COVID\n",
    "#water_EU2021 = impact_diff(2020, 2021, 'Total Water Consumption Blue', 'EU27', False)\n",
    "#not quite sure this counts as a rebound"
   ]
  },
  {
   "cell_type": "markdown",
   "metadata": {},
   "source": [
    "##### Material Use"
   ]
  },
  {
   "cell_type": "code",
   "execution_count": 39,
   "metadata": {},
   "outputs": [],
   "source": [
    "#Global financial crisis\n",
    "#mat_EU2009 = impact_sectors('Total Domestic Extraction Used', 'EU27', [2008, 2009], [2009, 2010])\n",
    "mat_EU2009 = impact_diff(2008, 2009, 'Total Domestic Extraction Used', 'EU27')"
   ]
  },
  {
   "cell_type": "code",
   "execution_count": 40,
   "metadata": {},
   "outputs": [
    {
     "data": {
      "text/plain": [
       "\"with pd.ExcelWriter('impact_sectors\\\\impact_scales_EU27PBA.xlsx', mode='a') as writer:\\n    clim_EU2009.to_excel(writer, sheet_name='clim_EU2009')\\n    clim_EU2020.to_excel(writer, sheet_name='clim_EU2020')\\n\\n    land_EU2020.to_excel(writer, sheet_name='land_EU2020')\\n\\n    #water_EU2008.to_excel(writer, sheet_name='water_EU2008')\\n\\n    mat_EU2009.to_excel(writer, sheet_name='mat_EU2009')\""
      ]
     },
     "execution_count": 40,
     "metadata": {},
     "output_type": "execute_result"
    }
   ],
   "source": [
    "'''with pd.ExcelWriter('impact_sectors\\impact_scales_EU27PBA.xlsx', mode='a') as writer:\n",
    "    clim_EU2009.to_excel(writer, sheet_name='clim_EU2009')\n",
    "    clim_EU2020.to_excel(writer, sheet_name='clim_EU2020')\n",
    "\n",
    "    land_EU2020.to_excel(writer, sheet_name='land_EU2020')\n",
    "\n",
    "    #water_EU2008.to_excel(writer, sheet_name='water_EU2008')\n",
    "\n",
    "    mat_EU2009.to_excel(writer, sheet_name='mat_EU2009')'''"
   ]
  },
  {
   "cell_type": "code",
   "execution_count": 41,
   "metadata": {},
   "outputs": [
    {
     "data": {
      "text/plain": [
       "\"with pd.ExcelWriter('rebound_sectors\\\\PBA_EU27_rebound_scales.xlsx', mode='a') as writer:\\n    clim_EU2010.to_excel(writer, sheet_name='clim_EU2010')\\n    clim_EU2021.to_excel(writer, sheet_name='clim_US2021')\""
      ]
     },
     "execution_count": 41,
     "metadata": {},
     "output_type": "execute_result"
    }
   ],
   "source": [
    "'''with pd.ExcelWriter('rebound_sectors\\PBA_EU27_rebound_scales.xlsx', mode='a') as writer:\n",
    "    clim_EU2010.to_excel(writer, sheet_name='clim_EU2010')\n",
    "    clim_EU2021.to_excel(writer, sheet_name='clim_US2021')'''"
   ]
  },
  {
   "cell_type": "markdown",
   "metadata": {},
   "source": [
    "#### China\n",
    "##### Climate change"
   ]
  },
  {
   "cell_type": "code",
   "execution_count": 42,
   "metadata": {},
   "outputs": [],
   "source": [
    "#Global financial crisis, only caused an anomaly for CBA\n",
    "#clim_CN2009 = impact_sectors('Total CO2', 'CN', [2008, 2009], [2009, 2010])\n",
    "#COVID \n",
    "#Chinese impact and rebound a year earlier for this crisis\n",
    "#clim_CN2019 = impact_sectors('Total CO2', 'CN', [2018, 2019], [2019, 2020])"
   ]
  },
  {
   "cell_type": "markdown",
   "metadata": {},
   "source": [
    "##### Land Use"
   ]
  },
  {
   "cell_type": "code",
   "execution_count": 43,
   "metadata": {},
   "outputs": [],
   "source": [
    "#N/A"
   ]
  },
  {
   "cell_type": "markdown",
   "metadata": {},
   "source": [
    "##### Water Use"
   ]
  },
  {
   "cell_type": "code",
   "execution_count": 44,
   "metadata": {},
   "outputs": [],
   "source": [
    "#COVID\n",
    "#Chinese impact and rebound a year earlier for this crisis\n",
    "#water_CN2019 = impact_sectors('Total Water Consumption Blue', 'CN', [2018, 2019], [2019, 2020])\n",
    "water_CN2019 = impact_diff(2018, 2019, 'Total Water Consumption Blue', 'CN')"
   ]
  },
  {
   "cell_type": "code",
   "execution_count": 45,
   "metadata": {},
   "outputs": [],
   "source": [
    "#Rebounds\n",
    "#COVID\n",
    "water_CN2020 = impact_diff(2019, 2020, 'Total Water Consumption Blue', 'CN', False)"
   ]
  },
  {
   "cell_type": "markdown",
   "metadata": {},
   "source": [
    "##### Material Use"
   ]
  },
  {
   "cell_type": "code",
   "execution_count": 46,
   "metadata": {},
   "outputs": [],
   "source": [
    "#Global financial crisis\n",
    "#mat_CN2009 = impact_sectors('Total Domestic Extraction Used', 'CN', [2009, 2010], [2010, 2011])\n",
    "mat_CN2009 = impact_diff(2008, 2009, 'Total Domestic Extraction Used', 'CN')"
   ]
  },
  {
   "cell_type": "code",
   "execution_count": 47,
   "metadata": {},
   "outputs": [],
   "source": [
    "#Rebound\n",
    "#Global financial crisis\n",
    "mat_CN2010 = impact_diff(2009, 2010, 'Total Domestic Extraction Used', 'CN', False)"
   ]
  },
  {
   "cell_type": "code",
   "execution_count": 48,
   "metadata": {},
   "outputs": [
    {
     "data": {
      "text/plain": [
       "\"with pd.ExcelWriter('impact_sectors\\\\impact_scales_CNPBA.xlsx', mode='a') as writer:\\n    water_CN2019.to_excel(writer, sheet_name='water_CN2019')\\n\\n    mat_CN2009.to_excel(writer, sheet_name='mat_CN2009')\""
      ]
     },
     "execution_count": 48,
     "metadata": {},
     "output_type": "execute_result"
    }
   ],
   "source": [
    "'''with pd.ExcelWriter('impact_sectors\\impact_scales_CNPBA.xlsx', mode='a') as writer:\n",
    "    water_CN2019.to_excel(writer, sheet_name='water_CN2019')\n",
    "\n",
    "    mat_CN2009.to_excel(writer, sheet_name='mat_CN2009')'''"
   ]
  },
  {
   "cell_type": "code",
   "execution_count": 49,
   "metadata": {},
   "outputs": [
    {
     "data": {
      "text/plain": [
       "\"with pd.ExcelWriter('rebound_sectors\\\\PBA_CN_rebound_scales.xlsx', mode='a') as writer:\\n    water_CN2020.to_excel(writer, sheet_name='water_CN2020')\\n\\n    mat_CN2010.to_excel(writer, sheet_name='mat_CN2010')\""
      ]
     },
     "execution_count": 49,
     "metadata": {},
     "output_type": "execute_result"
    }
   ],
   "source": [
    "'''with pd.ExcelWriter('rebound_sectors\\PBA_CN_rebound_scales.xlsx', mode='a') as writer:\n",
    "    water_CN2020.to_excel(writer, sheet_name='water_CN2020')\n",
    "\n",
    "    mat_CN2010.to_excel(writer, sheet_name='mat_CN2010')'''"
   ]
  },
  {
   "cell_type": "code",
   "execution_count": null,
   "metadata": {},
   "outputs": [],
   "source": []
  }
 ],
 "metadata": {
  "kernelspec": {
   "display_name": "TEP4930_V25_Thesis",
   "language": "python",
   "name": "python3"
  },
  "language_info": {
   "codemirror_mode": {
    "name": "ipython",
    "version": 3
   },
   "file_extension": ".py",
   "mimetype": "text/x-python",
   "name": "python",
   "nbconvert_exporter": "python",
   "pygments_lexer": "ipython3",
   "version": "3.8.20"
  }
 },
 "nbformat": 4,
 "nbformat_minor": 2
}
