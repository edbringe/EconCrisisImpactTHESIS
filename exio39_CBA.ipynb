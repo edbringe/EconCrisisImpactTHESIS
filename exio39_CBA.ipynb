{
 "cells": [
  {
   "cell_type": "code",
   "execution_count": 1,
   "metadata": {},
   "outputs": [],
   "source": [
    "import pandas as pd\n",
    "import numpy as np\n",
    "import matplotlib.pyplot as plt\n",
    "import country_converter as coco"
   ]
  },
  {
   "cell_type": "code",
   "execution_count": 2,
   "metadata": {},
   "outputs": [],
   "source": [
    "#Proper units to present on graphs\n",
    "proper_units = pd.DataFrame(['kg CO$_2$ eq.','km$^2$','Mm$^3$','kt'],index=['kg CO2 eq.','km2','Mm3','kt'],columns=['Proper Units'])"
   ]
  },
  {
   "cell_type": "markdown",
   "metadata": {},
   "source": [
    "### CBA account\n",
    "Sectoral account (bigger dataframes)"
   ]
  },
  {
   "cell_type": "code",
   "execution_count": 3,
   "metadata": {},
   "outputs": [],
   "source": [
    "D_cba = pd.read_csv('orig_20250120\\D_cba.csv',sep='\\t',index_col=[0])"
   ]
  },
  {
   "cell_type": "code",
   "execution_count": 7,
   "metadata": {},
   "outputs": [],
   "source": [
    "#General functions for isolating regions and years from the main dataframe\n",
    "def loc_region(region):\n",
    "    df = D_cba.loc[D_cba['region'] == region]\n",
    "    return df\n",
    "\n",
    "def loc_years(cba_region, year):\n",
    "    df = cba_region.loc[cba_region['year'] == year]\n",
    "    return df"
   ]
  },
  {
   "cell_type": "code",
   "execution_count": 8,
   "metadata": {},
   "outputs": [],
   "source": [
    "D_cba_GLOBAL = loc_region('global')\n",
    "\n",
    "D_cba_USA = loc_region('US')\n",
    "\n",
    "D_cba_EU27 = loc_region('EU27')\n",
    "\n",
    "D_cba_CHINA = loc_region('CN')"
   ]
  },
  {
   "cell_type": "markdown",
   "metadata": {},
   "source": [
    "What sectors change the most between each year of a crisis?"
   ]
  },
  {
   "cell_type": "code",
   "execution_count": 15,
   "metadata": {},
   "outputs": [],
   "source": [
    "#Short function to find and sort the impacts of a single year (takes in previous year as well).\n",
    "#Default ascending is True (fitting for impacts, not rebounds)\n",
    "#We will use the industry by industry entries \n",
    "def impact_diff(year_0, year_1, impact, region, direction = True):\n",
    "    imp_1 = loc_years(loc_region(region), year_1)\n",
    "    imp_0 = loc_years(loc_region(region), year_0)\n",
    "\n",
    "    #isolating the ixi matrix\n",
    "    ind_imp_1 = imp_1.loc[imp_1['system'] == 'ixi']\n",
    "    ind_imp_0 = imp_0.loc[imp_0['system'] == 'ixi']\n",
    "\n",
    "    imp_1 = ind_imp_1.loc[:,impact].rename(year_1)\n",
    "    imp_0 = ind_imp_0.loc[:,impact].rename(year_0)\n",
    "\n",
    "    imp_diff = pd.concat([imp_0,imp_1],axis=1).diff(axis=1)\n",
    "    sorted_imp = imp_diff.sort_values(by=year_1, ascending = direction)\n",
    "    sorted_imp = sorted_imp.drop(year_0, axis='columns')\n",
    "    TOP10_diff = sorted_imp.iloc[0:10]\n",
    "\n",
    "    return TOP10_diff"
   ]
  },
  {
   "cell_type": "markdown",
   "metadata": {},
   "source": [
    "What follows is extracting the impacts and rebounds for every region, impact category and economic crisis that was deemed significant. This is done manually. Data exporting code is commented out to avoid errors.\n",
    "\n",
    "#### The World\n",
    "Global accounts are the same for CBA and PBA, but sectoral impact allocation could be different\n",
    "##### Climate change"
   ]
  },
  {
   "cell_type": "code",
   "execution_count": 57,
   "metadata": {},
   "outputs": [],
   "source": [
    "#Impacts\n",
    "#Global financial crisis\n",
    "clim_world2008 = impact_diff(2008, 2009, 'CO2_total', 'global', True)\n",
    "#COVID\n",
    "clim_world2020 = impact_diff(2019, 2020, 'CO2_total', 'global', True)"
   ]
  },
  {
   "cell_type": "code",
   "execution_count": 58,
   "metadata": {},
   "outputs": [],
   "source": [
    "#Rebounds\n",
    "#Global financial crisis\n",
    "clim_world2010 = impact_diff(2009, 2010, 'CO2_total', 'global', False)\n",
    "#COVID-19\n",
    "clim_world2021 = impact_diff(2020, 2021, 'CO2_total', 'global', False)"
   ]
  },
  {
   "cell_type": "code",
   "execution_count": 59,
   "metadata": {},
   "outputs": [
    {
     "data": {
      "text/plain": [
       "\"with pd.ExcelWriter('impact_sectors\\\\impact_scales_world.xlsx', mode='a') as writer:\\n    clim_world2008.to_excel(writer, sheet_name='clim_world2008')\\n    clim_world2020.to_excel(writer, sheet_name='clim_world2020')\""
      ]
     },
     "execution_count": 59,
     "metadata": {},
     "output_type": "execute_result"
    }
   ],
   "source": [
    "'''with pd.ExcelWriter('impact_sectors\\impact_scales_world.xlsx', mode='a') as writer:\n",
    "    clim_world2008.to_excel(writer, sheet_name='clim_world2008')\n",
    "    clim_world2020.to_excel(writer, sheet_name='clim_world2020')'''"
   ]
  },
  {
   "cell_type": "markdown",
   "metadata": {},
   "source": [
    "##### Land Use"
   ]
  },
  {
   "cell_type": "code",
   "execution_count": 60,
   "metadata": {},
   "outputs": [],
   "source": [
    "#Dotcom bubble\n",
    "#land_world2001 = impact_sectors('Total Land Use', 'global', [2000, 2001], [2001, 2002])\n",
    "land_world2001 = impact_diff(2000, 2001, 'Total Land Use', 'global', True)\n",
    "#COVID-19\n",
    "#land_world2019 = impact_sectors('Total Land Use', 'global', [2018, 2019], [2019, 2020])\n",
    "land_world2019 = impact_diff(2018, 2019, 'Total Land Use', 'global', True)\n",
    "\n",
    "#N/A for rebounds"
   ]
  },
  {
   "cell_type": "code",
   "execution_count": 61,
   "metadata": {},
   "outputs": [
    {
     "data": {
      "text/plain": [
       "\"with pd.ExcelWriter('impact_sectors\\\\impact_scales_world.xlsx', mode='a') as writer:\\n    land_world2001.to_excel(writer, sheet_name = 'land_world2001')\\n    land_world2019.to_excel(writer, sheet_name = 'land_world2019')\""
      ]
     },
     "execution_count": 61,
     "metadata": {},
     "output_type": "execute_result"
    }
   ],
   "source": [
    "'''with pd.ExcelWriter('impact_sectors\\impact_scales_world.xlsx', mode='a') as writer:\n",
    "    land_world2001.to_excel(writer, sheet_name = 'land_world2001')\n",
    "    land_world2019.to_excel(writer, sheet_name = 'land_world2019')'''"
   ]
  },
  {
   "cell_type": "markdown",
   "metadata": {},
   "source": [
    "##### Water Use"
   ]
  },
  {
   "cell_type": "code",
   "execution_count": 62,
   "metadata": {},
   "outputs": [],
   "source": [
    "#COVID, not an anomaly recorded \n",
    "#water_world2020 = impact_sectors('Water Consumption Blue Total', 'global', [2019, 2020], [2020, 2021])\n",
    "water_world2020 = impact_diff(2019, 2020, 'Water Consumption Blue Total', 'global')\n",
    "\n",
    "#N/A for rebounds"
   ]
  },
  {
   "cell_type": "code",
   "execution_count": 63,
   "metadata": {},
   "outputs": [
    {
     "data": {
      "text/plain": [
       "\"with pd.ExcelWriter('impact_sectors\\\\impact_scales_world.xlsx', mode='a') as writer:\\n    water_world2020.to_excel(writer, sheet_name = 'water_world2020')\""
      ]
     },
     "execution_count": 63,
     "metadata": {},
     "output_type": "execute_result"
    }
   ],
   "source": [
    "'''with pd.ExcelWriter('impact_sectors\\impact_scales_world.xlsx', mode='a') as writer:\n",
    "    water_world2020.to_excel(writer, sheet_name = 'water_world2020')'''"
   ]
  },
  {
   "cell_type": "markdown",
   "metadata": {},
   "source": [
    "##### Material Use"
   ]
  },
  {
   "cell_type": "code",
   "execution_count": 64,
   "metadata": {},
   "outputs": [],
   "source": [
    "#Impacts\n",
    "#Global financial crisis\n",
    "#mat_world2009 = impact_sectors('Domestic Extraction Used Total', 'global', [2008, 2009], [2009, 2010])\n",
    "mat_world2009 = impact_diff(2008,2009, 'Domestic Extraction Used Total', 'global')\n",
    "#COVID\n",
    "#mat_world2020 = impact_sectors('Domestic Extraction Used Total', 'global', [2019, 2020], [2020, 2021])\n",
    "mat_world2020 = impact_diff(2019, 2020, 'Domestic Extraction Used Total', 'global')"
   ]
  },
  {
   "cell_type": "code",
   "execution_count": 65,
   "metadata": {},
   "outputs": [],
   "source": [
    "#Rebounds\n",
    "#Global financial crisis\n",
    "mat_world2010 = impact_diff(2009, 2010, 'Domestic Extraction Used Total', 'global', False)\n",
    "#COVID-19\n",
    "mat_world2021 = impact_diff(2020, 2021, 'Domestic Extraction Used Total', 'global', False)"
   ]
  },
  {
   "cell_type": "code",
   "execution_count": 66,
   "metadata": {},
   "outputs": [
    {
     "data": {
      "text/plain": [
       "\"with pd.ExcelWriter('impact_sectors\\\\impact_scales_world.xlsx', mode='a') as writer:\\n    mat_world2009.to_excel(writer, sheet_name= 'mat_world2009')\\n    mat_world2020.to_excel(writer, sheet_name= 'mat_world2020')\""
      ]
     },
     "execution_count": 66,
     "metadata": {},
     "output_type": "execute_result"
    }
   ],
   "source": [
    "'''with pd.ExcelWriter('impact_sectors\\impact_scales_world.xlsx', mode='a') as writer:\n",
    "    mat_world2009.to_excel(writer, sheet_name= 'mat_world2009')\n",
    "    mat_world2020.to_excel(writer, sheet_name= 'mat_world2020')'''"
   ]
  },
  {
   "cell_type": "code",
   "execution_count": 67,
   "metadata": {},
   "outputs": [
    {
     "data": {
      "text/plain": [
       "\"with pd.ExcelWriter('rebound_sectors\\\\world_rebound_scales.xlsx', mode='a') as writer:\\n    clim_world2010.to_excel(writer, sheet_name='clim_world2010')\\n    clim_world2021.to_excel(writer, sheet_name='clim_world2021')\\n\\n    mat_world2010.to_excel(writer, sheet_name='mat_world2010')\\n    mat_world2021.to_excel(writer, sheet_name='mat_world2021')\""
      ]
     },
     "execution_count": 67,
     "metadata": {},
     "output_type": "execute_result"
    }
   ],
   "source": [
    "'''with pd.ExcelWriter('rebound_sectors\\world_rebound_scales.xlsx', mode='a') as writer:\n",
    "    clim_world2010.to_excel(writer, sheet_name='clim_world2010')\n",
    "    clim_world2021.to_excel(writer, sheet_name='clim_world2021')\n",
    "\n",
    "    mat_world2010.to_excel(writer, sheet_name='mat_world2010')\n",
    "    mat_world2021.to_excel(writer, sheet_name='mat_world2021')'''"
   ]
  },
  {
   "cell_type": "markdown",
   "metadata": {},
   "source": [
    "#### The United States\n",
    "##### Climate change"
   ]
  },
  {
   "cell_type": "code",
   "execution_count": 68,
   "metadata": {},
   "outputs": [],
   "source": [
    "#Global financial crisis\n",
    "#clim_US2007 = impact_sectors('CO2_total', 'US', [2008, 2009], [2009, 2010])\n",
    "clim_US2009 = impact_diff(2008, 2009, 'CO2_total', 'US')\n",
    "#COVID\n",
    "#clim_US2020 = impact_sectors('CO2_total', 'US', [2019, 2020], [2020, 2021])\n",
    "clim_US2020 = impact_diff(2019, 2020, 'CO2_total', 'US')\n",
    "\n",
    "#Rebounds\n",
    "#Global financial crisis\n",
    "clim_US2010 = impact_diff(2009, 2010, 'CO2_total', 'US', False)\n",
    "#COVID-19\n",
    "clim_US2021 = impact_diff(2020, 2021, 'CO2_total', 'US', False)"
   ]
  },
  {
   "cell_type": "markdown",
   "metadata": {},
   "source": [
    "##### Land Use"
   ]
  },
  {
   "cell_type": "code",
   "execution_count": 69,
   "metadata": {},
   "outputs": [],
   "source": [
    "#Asian financial crisis\n",
    "#land_US1997 = impact_sectors('Total Land Use', 'US', [1996, 1997], [1997, 1998])\n",
    "#1997 anomaly was due to a positive value change\n",
    "land_US2002 = impact_diff(2001, 2002, 'Total Land Use', 'US')\n",
    "land_US2021 = impact_diff(2020, 2021, 'Total Land Use', 'US')"
   ]
  },
  {
   "cell_type": "code",
   "execution_count": 70,
   "metadata": {},
   "outputs": [],
   "source": [
    "#Rebounds\n",
    "land_US1997 = impact_diff(1996,1997, 'Total Land Use', 'US', False)\n",
    "land_US2000 = impact_diff(1999, 2000, 'Total Land Use', 'US', False)\n",
    "land_US2020 = impact_diff(2019, 2020, 'Total Land Use', 'US', False)"
   ]
  },
  {
   "cell_type": "markdown",
   "metadata": {},
   "source": [
    "##### Water Use"
   ]
  },
  {
   "cell_type": "code",
   "execution_count": 71,
   "metadata": {},
   "outputs": [],
   "source": [
    "#Global financial crisis\n",
    "#water_US2008 = impact_sectors('Water Consumption Blue Total', 'US', [2008, 2009], [2009, 2010])\n",
    "water_US2008 = impact_diff(2008, 2009, 'Water Consumption Blue Total', 'US')\n",
    "#COVID-19\n",
    "#water_US2020 = impact_sectors('Water Consumption Blue Total', 'US', [2019, 2020], [2020, 2021])\n",
    "water_US2020 = impact_diff(2019, 2020, 'Water Consumption Blue Total', 'US')"
   ]
  },
  {
   "cell_type": "code",
   "execution_count": 72,
   "metadata": {},
   "outputs": [],
   "source": [
    "#Rebounds\n",
    "#Global financial crisi\n",
    "water_US2010 = impact_diff(2009, 2010, 'Water Consumption Blue Total', 'US', False)\n",
    "#COVID\n",
    "water_US2021 = impact_diff(2020, 2021, 'Water Consumption Blue Total', 'US', False)"
   ]
  },
  {
   "cell_type": "markdown",
   "metadata": {},
   "source": [
    "##### Material Use"
   ]
  },
  {
   "cell_type": "code",
   "execution_count": 73,
   "metadata": {},
   "outputs": [],
   "source": [
    "#Asian financial crisis\n",
    "#mat_US1997 = impact_sectors('Domestic Extraction Used Total', 'US', [1996, 1997], [1997, 1998])\n",
    "mat_US1997 = impact_diff(1996, 1997, 'Domestic Extraction Used Total', 'US')\n",
    "#Global financial crisis\n",
    "#mat_US2009 = impact_sectors('Domestic Extraction Used Total', 'US', [2008, 2009], [2009, 2010])\n",
    "mat_US2009 = impact_diff(2008, 2009, 'Domestic Extraction Used Total', 'US')"
   ]
  },
  {
   "cell_type": "code",
   "execution_count": 74,
   "metadata": {},
   "outputs": [],
   "source": [
    "#Rebounds\n",
    "#Asian financial crisis\n",
    "mat_US1998 = impact_diff(1997, 1998, 'Domestic Extraction Used Total', 'US', False)"
   ]
  },
  {
   "cell_type": "code",
   "execution_count": 75,
   "metadata": {},
   "outputs": [
    {
     "data": {
      "text/plain": [
       "\"with pd.ExcelWriter('impact_sectors\\\\impact_scales_US.xlsx', mode='a') as writer:\\n    #clim_US2009.to_excel(writer, sheet_name='clim_US2009')\\n    #clim_US2020.to_excel(writer, sheet_name='clim_US2020')\\n\\n    #land_US2002.to_excel(writer, sheet_name='land_US2002')\\n    land_US2021.to_excel(writer, sheet_name='land_US2021')\\n\\n    #water_US2008.to_excel(writer, sheet_name='water_US2008')\\n    #water_US2020.to_excel(writer, sheet_name='water_US2020')\\n\\n    #mat_US1997.to_excel(writer, sheet_name='mat_US1997')\\n    #mat_US2009.to_excel(writer, sheet_name='mat_US2009')\""
      ]
     },
     "execution_count": 75,
     "metadata": {},
     "output_type": "execute_result"
    }
   ],
   "source": [
    "'''with pd.ExcelWriter('impact_sectors\\impact_scales_US.xlsx', mode='a') as writer:\n",
    "    #clim_US2009.to_excel(writer, sheet_name='clim_US2009')\n",
    "    #clim_US2020.to_excel(writer, sheet_name='clim_US2020')\n",
    "\n",
    "    #land_US2002.to_excel(writer, sheet_name='land_US2002')\n",
    "    land_US2021.to_excel(writer, sheet_name='land_US2021')\n",
    "\n",
    "    #water_US2008.to_excel(writer, sheet_name='water_US2008')\n",
    "    #water_US2020.to_excel(writer, sheet_name='water_US2020')\n",
    "\n",
    "    #mat_US1997.to_excel(writer, sheet_name='mat_US1997')\n",
    "    #mat_US2009.to_excel(writer, sheet_name='mat_US2009')'''"
   ]
  },
  {
   "cell_type": "code",
   "execution_count": 76,
   "metadata": {},
   "outputs": [
    {
     "data": {
      "text/plain": [
       "\"with pd.ExcelWriter('rebound_sectors\\\\_US_rebound_scales.xlsx', mode='a') as writer:\\n    #clim_US2010.to_excel(writer, sheet_name='clim_US2010')\\n    #clim_US2021.to_excel(writer, sheet_name='clim_US2021')\\n\\n    #land_US1997.to_excel(writer, sheet_name='land_US1997')\\n    land_US2000.to_excel(writer, sheet_name='land_US2000')\\n    #land_US2020.to_excel(writer, sheet_name='land_US2020')\\n\\n    #water_US2010.to_excel(writer, sheet_name='water_US2010')\\n    #water_US2021.to_excel(writer, sheet_name='water_US2021')\\n\\n    #mat_US1998.to_excel(writer, sheet_name='mat_US1998')\""
      ]
     },
     "execution_count": 76,
     "metadata": {},
     "output_type": "execute_result"
    }
   ],
   "source": [
    "'''with pd.ExcelWriter('rebound_sectors\\_US_rebound_scales.xlsx', mode='a') as writer:\n",
    "    #clim_US2010.to_excel(writer, sheet_name='clim_US2010')\n",
    "    #clim_US2021.to_excel(writer, sheet_name='clim_US2021')\n",
    "\n",
    "    #land_US1997.to_excel(writer, sheet_name='land_US1997')\n",
    "    land_US2000.to_excel(writer, sheet_name='land_US2000')\n",
    "    #land_US2020.to_excel(writer, sheet_name='land_US2020')\n",
    "\n",
    "    #water_US2010.to_excel(writer, sheet_name='water_US2010')\n",
    "    #water_US2021.to_excel(writer, sheet_name='water_US2021')\n",
    "\n",
    "    #mat_US1998.to_excel(writer, sheet_name='mat_US1998')'''"
   ]
  },
  {
   "cell_type": "markdown",
   "metadata": {},
   "source": [
    "#### EU27\n",
    "##### Climate Change"
   ]
  },
  {
   "cell_type": "code",
   "execution_count": 77,
   "metadata": {},
   "outputs": [],
   "source": [
    "#Global financial crisis, error only detected for CBA for 2007\n",
    "#clim_EU2007 = impact_sectors('CO2_total', 'EU27', [2008, 2009], [2009, 2010])\n",
    "clim_EU2007 = impact_diff(2008, 2009, 'CO2_total', 'EU27')\n",
    "#COVID, error only detected for PBA for 2020\n",
    "#clim_EU2020 = impact_sectors('CO2_total', 'EU27', [2019, 2020], [2020, 2021])\n",
    "clim_EU2020 = impact_diff(2019, 2020, 'CO2_total', 'EU27')"
   ]
  },
  {
   "cell_type": "code",
   "execution_count": 78,
   "metadata": {},
   "outputs": [],
   "source": [
    "#Rebounds\n",
    "#Global financial crisis\n",
    "clim_EU2010 = impact_diff(2009, 2010, 'CO2_total', 'EU27', False)\n",
    "#COVID\n",
    "clim_EU2021 = impact_diff(2020, 2021, 'CO2_total', 'EU27', False)"
   ]
  },
  {
   "cell_type": "markdown",
   "metadata": {},
   "source": [
    "##### Land Use"
   ]
  },
  {
   "cell_type": "code",
   "execution_count": 79,
   "metadata": {},
   "outputs": [],
   "source": [
    "#Global financial crisis, error only detected for CBA for 2007\n",
    "#land_EU2007 = impact_sectors('Total Land Use', 'EU27', [2008, 2009], [2009, 2010])\n",
    "land_EU2007 = impact_diff(2008, 2009, 'Total Land Use', 'EU27')\n",
    "#COVID, error only detected for PBA for 2020\n",
    "#land_EU2020 = impact_sectors('Total Land Use', 'EU27', [2019, 2020], [2020, 2021])\n",
    "land_EU2020 = impact_diff(2019, 2020, 'Total Land Use', 'EU27')"
   ]
  },
  {
   "cell_type": "markdown",
   "metadata": {},
   "source": [
    "##### Water Use"
   ]
  },
  {
   "cell_type": "code",
   "execution_count": 80,
   "metadata": {},
   "outputs": [],
   "source": [
    "#Dotcom bubble\n",
    "#water_EU2000 = impact_sectors('Water Consumption Blue Total', 'EU27', [1999, 2000], [2000, 2001])\n",
    "water_EU2000 = impact_diff(1999, 2000, 'Water Consumption Blue Total', 'EU27')\n",
    "#Global financial crisis\n",
    "#water_EU2009 = impact_sectors('Water Consumption Blue Total', 'EU27', [2008, 2009], [2009, 2010])\n",
    "water_EU2009 = impact_diff(2008, 2009, 'Water Consumption Blue Total', 'EU27')\n",
    "#COVID\n",
    "#water_EU2020 = impact_sectors('Water Consumption Blue Total', 'EU27', [2019, 2020], [2020, 2021])\n",
    "water_EU2020 = impact_diff(2019, 2020, 'Water Consumption Blue Total', 'EU27')"
   ]
  },
  {
   "cell_type": "code",
   "execution_count": 81,
   "metadata": {},
   "outputs": [],
   "source": [
    "#Rebound\n",
    "#COVID\n",
    "water_EU2021 = impact_diff(2020, 2021, 'Water Consumption Blue Total', 'EU27', False)"
   ]
  },
  {
   "cell_type": "markdown",
   "metadata": {},
   "source": [
    "##### Material Use"
   ]
  },
  {
   "cell_type": "code",
   "execution_count": 82,
   "metadata": {},
   "outputs": [],
   "source": [
    "#Global financial crisis\n",
    "#mat_EU2009 = impact_sectors('Domestic Extraction Used Total', 'EU27', [2008, 2009], [2009, 2010])\n",
    "mat_EU2009 = impact_diff(2008, 2009, 'Domestic Extraction Used Total', 'EU27')\n",
    "\n",
    "#N/A for rebounds"
   ]
  },
  {
   "cell_type": "code",
   "execution_count": 83,
   "metadata": {},
   "outputs": [
    {
     "data": {
      "text/plain": [
       "\"with pd.ExcelWriter('impact_sectors\\\\impact_scales_EU27.xlsx', mode='a') as writer:\\n    clim_EU2007.to_excel(writer, sheet_name='clim_EU2007')\\n    clim_EU2020.to_excel(writer, sheet_name='clim_EU2020')\\n\\n    land_EU2007.to_excel(writer, sheet_name='land_EU2007')\\n    land_EU2020.to_excel(writer, sheet_name='land_EU2020')\\n\\n    water_EU2000.to_excel(writer, sheet_name='water_EU2000')\\n    water_EU2009.to_excel(writer, sheet_name='water_EU2009')\\n    water_EU2020.to_excel(writer, sheet_name='water_EU2020')\\n\\n    mat_EU2009.to_excel(writer, sheet_name='mat_EU2009')\""
      ]
     },
     "execution_count": 83,
     "metadata": {},
     "output_type": "execute_result"
    }
   ],
   "source": [
    "'''with pd.ExcelWriter('impact_sectors\\impact_scales_EU27.xlsx', mode='a') as writer:\n",
    "    clim_EU2007.to_excel(writer, sheet_name='clim_EU2007')\n",
    "    clim_EU2020.to_excel(writer, sheet_name='clim_EU2020')\n",
    "\n",
    "    land_EU2007.to_excel(writer, sheet_name='land_EU2007')\n",
    "    land_EU2020.to_excel(writer, sheet_name='land_EU2020')\n",
    "\n",
    "    water_EU2000.to_excel(writer, sheet_name='water_EU2000')\n",
    "    water_EU2009.to_excel(writer, sheet_name='water_EU2009')\n",
    "    water_EU2020.to_excel(writer, sheet_name='water_EU2020')\n",
    "\n",
    "    mat_EU2009.to_excel(writer, sheet_name='mat_EU2009')'''"
   ]
  },
  {
   "cell_type": "code",
   "execution_count": 84,
   "metadata": {},
   "outputs": [
    {
     "data": {
      "text/plain": [
       "\"with pd.ExcelWriter('rebound_sectors\\\\EU27_rebound_scales.xlsx', mode='a') as writer:\\n    clim_EU2010.to_excel(writer, sheet_name='clim_EU2010')\\n    clim_EU2021.to_excel(writer, sheet_name='clim_EU2021')\\n\\n    water_EU2021.to_excel(writer, sheet_name='water_EU2021')\""
      ]
     },
     "execution_count": 84,
     "metadata": {},
     "output_type": "execute_result"
    }
   ],
   "source": [
    "'''with pd.ExcelWriter('rebound_sectors\\EU27_rebound_scales.xlsx', mode='a') as writer:\n",
    "    clim_EU2010.to_excel(writer, sheet_name='clim_EU2010')\n",
    "    clim_EU2021.to_excel(writer, sheet_name='clim_EU2021')\n",
    "\n",
    "    water_EU2021.to_excel(writer, sheet_name='water_EU2021')'''"
   ]
  },
  {
   "cell_type": "markdown",
   "metadata": {},
   "source": [
    "#### China\n",
    "##### Climate Change"
   ]
  },
  {
   "cell_type": "code",
   "execution_count": 85,
   "metadata": {},
   "outputs": [],
   "source": [
    "#Global financial crisis, only caused an anomaly for CBA and this anomaly resulted in an increase in emissions. More likely a rebound\n",
    "#clim_CN2009 = impact_sectors('CO2_total', 'CN', [2008, 2009], [2009, 2010])\n",
    "clim_CN2009 = impact_diff(2008, 2009, 'CO2_total', 'CN', False)"
   ]
  },
  {
   "cell_type": "markdown",
   "metadata": {},
   "source": [
    "##### Land Use\n",
    "N/A\n",
    "##### Water Use"
   ]
  },
  {
   "cell_type": "code",
   "execution_count": 86,
   "metadata": {},
   "outputs": [],
   "source": [
    "#COVID\n",
    "#Chinese impact and rebound a year earlier for this crisis\n",
    "#water_CN2019 = impact_sectors('Water Consumption Blue Total', 'CN', [2018, 2019], [2019, 2020])\n",
    "water_CN2019 = impact_diff(2018, 2019, 'Water Consumption Blue Total', 'CN')"
   ]
  },
  {
   "cell_type": "code",
   "execution_count": 87,
   "metadata": {},
   "outputs": [],
   "source": [
    "#Rebound\n",
    "#COVID\n",
    "water_CN2020 = impact_diff(2019, 2020, 'Water Consumption Blue Total', 'CN', False)"
   ]
  },
  {
   "cell_type": "markdown",
   "metadata": {},
   "source": [
    "##### Material Use"
   ]
  },
  {
   "cell_type": "code",
   "execution_count": 88,
   "metadata": {},
   "outputs": [],
   "source": [
    "#Global financial crisis\n",
    "#mat_CN2009 = impact_sectors('Domestic Extraction Used Total', 'CN', [2009, 2010], [2010, 2011])\n",
    "#mat_CN2009 = impact_diff(2008, 2009, 'Domestic Extraction Used Total', 'CN')\n",
    "#COVID\n",
    "#mat_CN2019 = impact_sectors('Domestic Extraction Used Total', 'CN', [2018, 2019], [2019, 2020])\n",
    "mat_CN2019 = impact_diff(2018, 2019, 'Domestic Extraction Used Total', 'CN')"
   ]
  },
  {
   "cell_type": "code",
   "execution_count": 89,
   "metadata": {},
   "outputs": [],
   "source": [
    "#Rebound\n",
    "#Global financial crisis\n",
    "mat_CN2009 = impact_diff(2008, 2009, 'Domestic Extraction Used Total', 'CN', False)"
   ]
  },
  {
   "cell_type": "code",
   "execution_count": 90,
   "metadata": {},
   "outputs": [
    {
     "data": {
      "text/plain": [
       "\"with pd.ExcelWriter('impact_sectors\\\\impact_scales_CN.xlsx', mode='a') as writer:\\n    #clim_CN2009.to_excel(writer, sheet_name='clim_CN2009')\\n\\n    water_CN2019.to_excel(writer, sheet_name='water_CN2019')\\n\\n    mat_CN2009.to_excel(writer, sheet_name='mat_CN2009')\\n    mat_CN2019.to_excel(writer, sheet_name='mat_CN2019')\""
      ]
     },
     "execution_count": 90,
     "metadata": {},
     "output_type": "execute_result"
    }
   ],
   "source": [
    "'''with pd.ExcelWriter('impact_sectors\\impact_scales_CN.xlsx', mode='a') as writer:\n",
    "    #clim_CN2009.to_excel(writer, sheet_name='clim_CN2009')\n",
    "\n",
    "    water_CN2019.to_excel(writer, sheet_name='water_CN2019')\n",
    "\n",
    "    mat_CN2009.to_excel(writer, sheet_name='mat_CN2009')\n",
    "    mat_CN2019.to_excel(writer, sheet_name='mat_CN2019')'''"
   ]
  },
  {
   "cell_type": "code",
   "execution_count": 91,
   "metadata": {},
   "outputs": [
    {
     "data": {
      "text/plain": [
       "\"with pd.ExcelWriter('rebound_sectors\\\\CN_rebound_scales.xlsx', mode='a') as writer:\\n    water_CN2020.to_excel(writer, sheet_name='water_CN2020')\\n\\n    mat_CN2009.to_excel(writer, sheet_name='mat_CN2009')\""
      ]
     },
     "execution_count": 91,
     "metadata": {},
     "output_type": "execute_result"
    }
   ],
   "source": [
    "'''with pd.ExcelWriter('rebound_sectors\\CN_rebound_scales.xlsx', mode='a') as writer:\n",
    "    water_CN2020.to_excel(writer, sheet_name='water_CN2020')\n",
    "\n",
    "    mat_CN2009.to_excel(writer, sheet_name='mat_CN2009')'''"
   ]
  }
 ],
 "metadata": {
  "kernelspec": {
   "display_name": "TEP4930_V25_Thesis",
   "language": "python",
   "name": "python3"
  },
  "language_info": {
   "codemirror_mode": {
    "name": "ipython",
    "version": 3
   },
   "file_extension": ".py",
   "mimetype": "text/x-python",
   "name": "python",
   "nbconvert_exporter": "python",
   "pygments_lexer": "ipython3",
   "version": "3.8.20"
  }
 },
 "nbformat": 4,
 "nbformat_minor": 2
}
